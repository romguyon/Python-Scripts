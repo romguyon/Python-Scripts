{
 "cells": [
  {
   "cell_type": "markdown",
   "metadata": {},
   "source": [
    "<h1>Asynchio web request module</h1>"
   ]
  },
  {
   "cell_type": "markdown",
   "metadata": {},
   "source": [
    "<h2>Required modules</h2>\n",
    "<p>This is a simple script to pull information using the Asyncio library. It takes a list of URLs and then returns them as a list of JSON responses in a Jupyter notebook.</p>\n",
    "<p>It requires the following libararies:</p>\n",
    "<ol>\n",
    "<li><span class=\"nn\">Aysnchio and Aiohttp (3.6.2) to allow the API calls to run asynchronously.</span></li>\n",
    "<li><span class=\"nn\">Ipywidgets (7.5.1)</span>&nbsp;to set the parameters.</li>\n",
    "<li>Json to process the json results.</li>\n",
    "<li>And time to display the runtime.</li>\n",
    "</ol>\n",
    "<p>"
   ]
  },
  {
   "cell_type": "code",
   "execution_count": 1,
   "metadata": {},
   "outputs": [],
   "source": [
    "import random\n",
    "import time\n",
    "import json\n",
    "import asyncio\n",
    "import aiohttp\n",
    "from ipywidgets import interact, interactive, fixed, interact_manual,Layout\n",
    "import ipywidgets as widgets\n"
   ]
  },
  {
   "cell_type": "markdown",
   "metadata": {},
   "source": [
    "<h2>Set up parameters and headers</h2>\n",
    "<p>There are some parameters that need to be set. The ones that are mandatory will be set using a widget.</p>\n",
    "<p>The headers and parameter dictionaries are not required and be left empty. For this example the script does not require either to be set, however, if the API call does require additional parameters these dictionaries can be used to pass them into the API call.</p>\n",
    "<p>If the headers/parameters are dynamic they should be set inside the actual loop, not here.</p>\n",
    "<p>The time value, in seconds, is used to set the time for the whole query to run . This is to prevent the script from spamming the server and prevent being banned.</p>\n",
    "<p>For example if time is set to 600 the queries will take ~10 minutes (600s / 60s) to run. The script spaces each request randomly using a uniform distribution. For small numbers of requests this shouldn't matter but for large ones it prevents sending too many concurrently.</p>\n",
    "<p>The connections parameter sets the max number of concurrent connections. Setting this higher allows more queries to be completed at once. Setting it too high can result in an an issue. For large numbers of requests you can play with this to see if it increases speed. This function will get called in the main routine. The text box is used to store the value for base of the API url. It's defaulted to the NBA Draft Combine data in this example</p>"
   ]
  },
  {
   "cell_type": "code",
   "execution_count": 2,
   "metadata": {},
   "outputs": [
    {
     "data": {
      "application/vnd.jupyter.widget-view+json": {
       "model_id": "259476e64b024c2cb585f3ace47734be",
       "version_major": 2,
       "version_minor": 0
      },
      "text/plain": [
       "IntText(value=50, description='Set the max number of connections', layout=Layout(width='30%'), style=Descripti…"
      ]
     },
     "metadata": {},
     "output_type": "display_data"
    },
    {
     "data": {
      "application/vnd.jupyter.widget-view+json": {
       "model_id": "48a670011a43453cadeeac1aec395cc0",
       "version_major": 2,
       "version_minor": 0
      },
      "text/plain": [
       "IntText(value=3, description='Time for the query to run in seconds', layout=Layout(width='30%'), style=Descrip…"
      ]
     },
     "metadata": {},
     "output_type": "display_data"
    },
    {
     "data": {
      "application/vnd.jupyter.widget-view+json": {
       "model_id": "dd43feec372f4062bb10c2a29b90d9fd",
       "version_major": 2,
       "version_minor": 0
      },
      "text/plain": [
       "Text(value='https://stats.nba.com/stats/draftcombineplayeranthro', description='The URL for the base API', lay…"
      ]
     },
     "metadata": {},
     "output_type": "display_data"
    }
   ],
   "source": [
    "#request headers and parameters are optional dictionaries.\n",
    "global wait_base\n",
    "\n",
    "req_headers=    headers = {\n",
    "    'Host': 'stats.nba.com',\n",
    "    'User-Agent': 'Mozilla/5.0 (Windows NT 10.0; Win64; x64; rv:71.0) Gecko/20100101 Firefox/71.0',\n",
    "    'Accept': 'application/json, text/plain, */*',\n",
    "    'Accept-Language': 'en-US,en;q=0.5',\n",
    "    'Referer': 'https://stats.nba.com/',\n",
    "    'Accept-Encoding': 'gzip, deflate, br',\n",
    "    'Connection': 'keep-alive',\n",
    "        }\n",
    "req_params={}\n",
    "\n",
    "\n",
    "#Set a variable that sets the number of connections\n",
    "style = {'description_width': 'initial'}\n",
    "x=widgets.IntText(value=50,description='Set the max number of connections', layout=Layout(width='30%'),style=style)\n",
    "y=widgets.IntText(value=3,description='Time for the query to run in seconds', layout=Layout(width='30%'),style=style)\n",
    "url_widget= widgets.Text(value='https://stats.nba.com/stats/draftcombineplayeranthro',description='The URL for the base API', layout=Layout(width='30%'),style=style)\n",
    "display(x,y,url_widget) #show the selection widgets\n",
    "\n",
    "def set_request_param(x,y,url_widget):\n",
    "    conn= aiohttp.TCPConnector(limit=x.value)\n",
    "    wait_base=y.value\n",
    "    base_url=url_widget.value\n",
    "    \n",
    "    return(conn,wait_base,base_url)"
   ]
  },
  {
   "cell_type": "markdown",
   "metadata": {},
   "source": [
    "<h2>Request functions</h2>\n",
    "<p>There are two functions that are set up before the request itself:</p>\n",
    "<ol>\n",
    "<li><strong>get_json</strong>. This function makes the API call.</li>\n",
    "<li><strong>response</strong>. This is the function that determines the parameters for the API request. By default it only serves to use the wait parameter to space out the API calls.&nbsp;</li>\n",
    "</ol>\n",
    "<p>Note that since this will be asynchronous fuctions the the function needs to start with the prefix <strong> async </strong>. Also, the keyword <strong> await </strong> is required before you return results from the function.\n",
    "<p><strong>get_json</strong> takes three parameters:</p>\n",
    "<ol>\n",
    "<li>Client. This is the session inherited from the main routine.</li>\n",
    "<li>Headers. This takes the parameters from the dictionary in the main body.&nbsp;</li>\n",
    "<li>Params. This takes the parameters from the dictionary in the main body.</li>\n",
    "<li>URL. The URL for the API call.</li>\n",
    "</ol>\n",
    "<p><strong>response</strong> takes the same parameters as the get_json function plus a parameter, wait base. This is the number of seconds we have allocated for all of the queries. This is then used for pull a random number from the uniform distribution to determine when to sent out the next query in the sequence.</p>\n",
    "<p>The <strong>item_dict</strong> contains a dictionary that includes the path_url and additional parameters (if applicable). They are merged into the web request before it is passed on to the <strong>get_json</strong> function.</p>"
   ]
  },
  {
   "cell_type": "code",
   "execution_count": 3,
   "metadata": {},
   "outputs": [],
   "source": [
    "import requests\n",
    "'''Function is used to pull the request data'''\n",
    "async def get_json(client,req_headers,req_params,url):\n",
    "    async with client.get(url,params=req_params,headers=req_headers) as response:\n",
    "        try:\n",
    "            ret=await response.json()\n",
    "            return ret\n",
    "        except Exception as e:\n",
    "            print(f'The API call to {url} returned an error, {e}')"
   ]
  },
  {
   "cell_type": "code",
   "execution_count": 4,
   "metadata": {},
   "outputs": [],
   "source": [
    " async def response(wait_base,client,req_headers,req_params,url,item_dict):\n",
    "    url=url+item_dict['path_url'] #add the path url if applicable\n",
    "    new_param=item_dict['params'] #pull the parameters out of the item dictionary\n",
    "    req_params ={**req_params , **new_param}\n",
    "    #wait time between requests is pulled from a random uniform distribution\n",
    "    wait_t=random.uniform(0,wait_base)\n",
    "    #set a sleep between requests based on the value calculated above\n",
    "    await asyncio.sleep(wait_t)\n",
    "    response= await get_json(client,req_headers,req_params,url)\n",
    "    return response"
   ]
  },
  {
   "cell_type": "markdown",
   "metadata": {},
   "source": [
    "<h2>Main Routine</h2>\n",
    "<p>The main routine is relatively straightforward. Since this is also an asynchronous function it requires the&nbsp;<strong>async</strong> keyword.</p>\n",
    "<ol>\n",
    "<li>Call a fuction&nbsp;<strong>set_request_param&nbsp;</strong>which returns a tuple containing the request parameters that were set up earlier.</li>\n",
    "<li>Create a list of of dictionaries that contains the list of URL paths and parameters for each query. This example uses the NBA API to pull draft combine data from from the 2003-04 season to the 2019-20 season. Keep in mind this is more to illustrate the concept. In practice you would only use Asynchio when need to make many requests.</li>\n",
    "<li>Third, an AIOHTTP client session is started. This is where the actual requests take place.</li>\n",
    "<li>The&nbsp;<strong>json_data</strong> list stores a list of the tasks and&nbsp;starts the loop (via &nbsp;<strong>asyncio.create_task</strong>)<strong>&nbsp;</strong>that calls the&nbsp;<strong>response</strong> function (which in turn calls the <strong>get_json</strong> function for the API calls).&nbsp;In this case there will be two JSON responses stored in the list.</li>\n",
    "<li>The function runs and stores a list of the individual responses in the variable<strong> results</strong>. As was the case with the&nbsp;<strong>get_json</strong> function the keyword <strong>await</strong> is required to make sure the script waits for all of the responses to be returned.</li>\n",
    "<li>The results of the query will be available for processing in a list called&nbsp;<strong>results<em>.</em></strong></li>\n",
    "</ol>\n",
    "<p>&nbsp;</p>"
   ]
  },
  {
   "cell_type": "code",
   "execution_count": 5,
   "metadata": {},
   "outputs": [],
   "source": [
    "async def main():\n",
    "    #get the connection and wait parameters based on the user's inputs\n",
    "    conn,wait_base,base_url=set_request_param(x,y,url_widget)\n",
    "    #This is a list of dictionaries to loop through that includes any path URLs or parameters\n",
    "    items=[{'path_url':'','params':{'SeasonYear':str(2003+i)+'-'+str(int(2003+i))[2:4],'LeagueID':'00'}} for i in range(17)]\n",
    "    start_time = time.time()\n",
    "    \n",
    "    \n",
    "    async with aiohttp.ClientSession(connector=conn) as client: #create the client sesson object that persists across requests\n",
    "        '''create task is used to start the task to pull all the asynch requests'''\n",
    "        json_data=[asyncio.create_task(response(wait_base,client,req_headers,req_params,base_url,item_dict)) for item_dict in items]\n",
    "            \n",
    "        #The await...gather ensures all of the queries are complete before the function returns the list of JSONs back to the main program\n",
    "        results = await asyncio.gather(*json_data, return_exceptions=True)\n",
    "        print(f'it took {round(time.time() - start_time,2)} seconds to go through: {len(items)} items')\n",
    "        return results\n",
    "    "
   ]
  },
  {
   "cell_type": "code",
   "execution_count": 6,
   "metadata": {},
   "outputs": [
    {
     "name": "stdout",
     "output_type": "stream",
     "text": [
      "it took 5.86 seconds to go through: 17 items\n"
     ]
    }
   ],
   "source": [
    "'''Call the main routine and result the results of the webqueries'''\n",
    "if __name__ ==  '__main__':\n",
    "    result =await main()"
   ]
  },
  {
   "cell_type": "markdown",
   "metadata": {},
   "source": [
    "<h2>Example Results</h2>\n",
    "<p>Here are the results returned from the test query run above.</p>"
   ]
  },
  {
   "cell_type": "code",
   "execution_count": 16,
   "metadata": {},
   "outputs": [
    {
     "data": {
      "text/plain": [
       "([None,\n",
       "  200995,\n",
       "  'Aloysius',\n",
       "  'Anagonye',\n",
       "  'Aloysius Anagonye',\n",
       "  'PF',\n",
       "  78.75,\n",
       "  \"6' 6.75''\",\n",
       "  None,\n",
       "  None,\n",
       "  '257',\n",
       "  86.5,\n",
       "  \"7' 2.5''\",\n",
       "  106.0,\n",
       "  \"8' 10''\",\n",
       "  10.5,\n",
       "  None,\n",
       "  None],\n",
       " [1629638,\n",
       "  1629638,\n",
       "  'Nickeil',\n",
       "  'Alexander-Walker',\n",
       "  'Nickeil Alexander-Walker',\n",
       "  'SG',\n",
       "  76.25,\n",
       "  \"6' 4.25''\",\n",
       "  77.5,\n",
       "  \"6' 5.5''\",\n",
       "  '203.8',\n",
       "  81.5,\n",
       "  \"6' 9.5''\",\n",
       "  102.0,\n",
       "  \"8' 6''\",\n",
       "  5.9,\n",
       "  8.5,\n",
       "  8.75])"
      ]
     },
     "execution_count": 16,
     "metadata": {},
     "output_type": "execute_result"
    }
   ],
   "source": [
    "result[0]['resultSets'][0]['rowSet'][0],result[16]['resultSets'][0]['rowSet'][0]"
   ]
  },
  {
   "cell_type": "code",
   "execution_count": null,
   "metadata": {},
   "outputs": [],
   "source": []
  }
 ],
 "metadata": {
  "kernelspec": {
   "display_name": "Python 3",
   "language": "python",
   "name": "python3"
  },
  "language_info": {
   "codemirror_mode": {
    "name": "ipython",
    "version": 3
   },
   "file_extension": ".py",
   "mimetype": "text/x-python",
   "name": "python",
   "nbconvert_exporter": "python",
   "pygments_lexer": "ipython3",
   "version": "3.7.5"
  }
 },
 "nbformat": 4,
 "nbformat_minor": 4
}
