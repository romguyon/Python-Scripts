{
 "cells": [
  {
   "cell_type": "markdown",
   "metadata": {},
   "source": [
    "<h1>Player Bios Script</h1>\n",
    "<hr>\n",
    "<h3>This file pulls the player bio data from stats.nba.com for a specific year via the NBA API and saves it in an compressed parquet file.</h3>"
   ]
  },
  {
   "cell_type": "code",
   "execution_count": 1,
   "metadata": {},
   "outputs": [],
   "source": [
    "import time\n",
    "import json\n",
    "import requests"
   ]
  },
  {
   "cell_type": "code",
   "execution_count": 2,
   "metadata": {},
   "outputs": [],
   "source": [
    "'''This stores the default variables with the query dictionaries for the default season of 2010-11'''\n",
    "payload={\n",
    "'LeagueID':'00',\n",
    "'SeasonYear': '2010-11'\n",
    "}\n",
    "\n",
    "headers = {\n",
    "    'Host': 'stats.nba.com',\n",
    "    'User-Agent': 'Mozilla/5.0 (Windows NT 10.0; Win64; x64; rv:71.0) Gecko/20100101 Firefox/71.0',\n",
    "    'Accept': 'application/json, text/plain, */*',\n",
    "    'Accept-Language': 'en-US,en;q=0.5',\n",
    "    'Referer': 'https://stats.nba.com/',\n",
    "    'Accept-Encoding': 'gzip, deflate, br',\n",
    "    'Connection': 'keep-alive',\n",
    "        }"
   ]
  },
  {
   "cell_type": "code",
   "execution_count": 3,
   "metadata": {},
   "outputs": [],
   "source": [
    "def pull_data(s,payload,headers):\n",
    "    url='https://stats.nba.com/stats/draftcombineplayeranthro?'\n",
    "    with s.get(url,headers=headers,params=payload) as response:\n",
    "        try:\n",
    "            assert response.status_code==200\n",
    "            ret=response.json()\n",
    "            return ret\n",
    "        except AssertionError:\n",
    "            print(response)\n",
    "    \n"
   ]
  },
  {
   "cell_type": "code",
   "execution_count": 4,
   "metadata": {},
   "outputs": [
    {
     "name": "stdin",
     "output_type": "stream",
     "text": [
      "Pick the first season to scrape: 2003\n",
      "Pick the last season to scrape: 2019\n"
     ]
    },
    {
     "name": "stdout",
     "output_type": "stream",
     "text": [
      "Currently processing season: 2003-04\n",
      "Currently processing season: 2004-05\n",
      "Currently processing season: 2005-06\n",
      "Currently processing season: 2006-07\n",
      "Currently processing season: 2007-08\n",
      "Currently processing season: 2008-09\n",
      "Currently processing season: 2009-10\n",
      "Currently processing season: 2010-11\n",
      "Currently processing season: 2011-12\n",
      "Currently processing season: 2012-13\n",
      "Currently processing season: 2013-14\n",
      "Currently processing season: 2014-15\n",
      "Currently processing season: 2015-16\n",
      "Currently processing season: 2016-17\n",
      "Currently processing season: 2017-18\n",
      "Currently processing season: 2018-19\n",
      "Currently processing season: 2019-20\n",
      "it took 33.97 seconds to go through: 17 items\n"
     ]
    }
   ],
   "source": [
    "'''main body of the program\n",
    "first determine what years to pull in the loop\n",
    "second loop thorough those years and return the response with the player data in a dictionary\n",
    "'''\n",
    "#first_year=int(input('What is the first year of the season to pull:'))\n",
    "#last_year=int(input('What is the last year of the season to pull:'))\n",
    "first_year=int(input('Pick the first season to scrape:'))\n",
    "last_year=int(input('Pick the last season to scrape:'))\n",
    "#wait_base=int(input('~how many seconds should the requests take in total?'))\n",
    "years_to_pull=[x for x in range(first_year,last_year+1)] #create a list with the years to loop through\n",
    "\n",
    "s= requests.Session()\n",
    "cnt=0\n",
    "results={}\n",
    "start_time = time.time()\n",
    "for x in years_to_pull:\n",
    "    season_param=((str(x)+'-'+str((int(x)+1))[2:4]))\n",
    "    payload['SeasonYear']=season_param #note this is not the same as the Season parameter used for the other queries\n",
    "    print(f'Currently processing season: {season_param}')\n",
    "    response= pull_data(s,payload,headers)\n",
    "    results[cnt]=response\n",
    "    cnt+=1\n",
    "\n",
    "print(f'it took {round(time.time() - start_time,2)} seconds to go through: {len(results)} items')"
   ]
  },
  {
   "cell_type": "code",
   "execution_count": 5,
   "metadata": {},
   "outputs": [
    {
     "data": {
      "text/plain": [
       "([None,\n",
       "  200995,\n",
       "  'Aloysius',\n",
       "  'Anagonye',\n",
       "  'Aloysius Anagonye',\n",
       "  'PF',\n",
       "  78.75,\n",
       "  \"6' 6.75''\",\n",
       "  None,\n",
       "  None,\n",
       "  '257',\n",
       "  86.5,\n",
       "  \"7' 2.5''\",\n",
       "  106.0,\n",
       "  \"8' 10''\",\n",
       "  10.5,\n",
       "  None,\n",
       "  None],\n",
       " [1629638,\n",
       "  1629638,\n",
       "  'Nickeil',\n",
       "  'Alexander-Walker',\n",
       "  'Nickeil Alexander-Walker',\n",
       "  'SG',\n",
       "  76.25,\n",
       "  \"6' 4.25''\",\n",
       "  77.5,\n",
       "  \"6' 5.5''\",\n",
       "  '203.8',\n",
       "  81.5,\n",
       "  \"6' 9.5''\",\n",
       "  102.0,\n",
       "  \"8' 6''\",\n",
       "  5.9,\n",
       "  8.5,\n",
       "  8.75])"
      ]
     },
     "execution_count": 5,
     "metadata": {},
     "output_type": "execute_result"
    }
   ],
   "source": [
    "results[0]['resultSets'][0]['rowSet'][0],results[16]['resultSets'][0]['rowSet'][0]"
   ]
  },
  {
   "cell_type": "code",
   "execution_count": null,
   "metadata": {},
   "outputs": [],
   "source": []
  }
 ],
 "metadata": {
  "kernelspec": {
   "display_name": "Python 3",
   "language": "python",
   "name": "python3"
  },
  "language_info": {
   "codemirror_mode": {
    "name": "ipython",
    "version": 3
   },
   "file_extension": ".py",
   "mimetype": "text/x-python",
   "name": "python",
   "nbconvert_exporter": "python",
   "pygments_lexer": "ipython3",
   "version": "3.7.5"
  }
 },
 "nbformat": 4,
 "nbformat_minor": 4
}
