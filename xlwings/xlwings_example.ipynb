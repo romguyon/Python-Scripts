{
 "cells": [
  {
   "cell_type": "markdown",
   "metadata": {},
   "source": [
    "# Summary\n",
    "As a part of my NBA project I've pulled over 100k boxscores by player. This goes over a subset of the work where I needed to determine how many days rest each player had between games.\n",
    "\n",
    "Pandas and Dataframes are great for manipulating data. As someone coming from Excel/VBA, the power of all the Python libraries is phenomenal (not to mention the massive number of StackOverflow material). Since I am in the process of converting over to Pandas I've been doing my best to try to stay within Python to get immersed in it, which I think is useful exercise.\n",
    "\n",
    "_Nonetheless there are certain things that are just better in Excel_. If you don't believe me create a custom function in Python that does something weird and try to troubleshoot it--sometimes it's just easier to be able to scroll through a Dataframe cell by cell without having to manually type in filters, etc. Yes you could use widgets or something along those lines to filter the data--but I'd rather use Excel, especially since working within a DataFrame I cut out a lot of the overhead in Excel if I am not using Excel formulas. _Enter the xlwings library!."
   ]
  },
  {
   "cell_type": "markdown",
   "metadata": {},
   "source": [
    "## Setup libraries\n",
    "\n",
    "To get started we need the following libraries:\n",
    "1. Pandas.\n",
    "2. Parquet (https://arrow.apache.org/docs/python/parquet.html).\n",
    "3. xlwings (https://docs.xlwings.org/en/stable/installation.html).\n",
    "4. Excel.\n",
    "5. The Python logger.\n",
    "6. Datetime.\n",
    "\n",
    "The first step is to load the relevant libraries"
   ]
  },
  {
   "cell_type": "code",
   "execution_count": 31,
   "metadata": {},
   "outputs": [],
   "source": [
    "import pandas as pd\n",
    "import xlwings\n",
    "import logging"
   ]
  },
  {
   "cell_type": "markdown",
   "metadata": {},
   "source": [
    "## Setup the logger"
   ]
  },
  {
   "cell_type": "code",
   "execution_count": 3,
   "metadata": {},
   "outputs": [],
   "source": [
    "logging.basicConfig(level=logging.DEBUG, filename='_consol_data.log', filemode='w', format=' %(asctime)s - %(name)s - %(levelname)s - %(message)s')"
   ]
  },
  {
   "cell_type": "markdown",
   "metadata": {},
   "source": [
    "## The data\n",
    "Now we have loaded are DataFrame.\n",
    "1.  'PK' is a key from the original DataFrame. (I use this for the join in my actual use case but we can ignore it here.)\n",
    "2. 'SEASON' is the NBA season.\n",
    "3. 'PLAYER_ID' is an individual player (which maps to a name in the larger file).\n",
    "4. 'GAME_ID' is the ID of the game. In theory this should be sequential but in my file they are not. Take note of this for later.\n",
    "5. 'GAME_DATE_EST_ADJ' is the date the game took place in Datetime format (this is why I prefer Parquet over CSV files)."
   ]
  },
  {
   "cell_type": "code",
   "execution_count": 6,
   "metadata": {},
   "outputs": [
    {
     "data": {
      "text/plain": [
       "((1013579, 5), PK                           object\n",
       " SEASON                       object\n",
       " PLAYER_ID                     int64\n",
       " GAME_ID                      object\n",
       " GAME_DATE_EST_ADJ    datetime64[ns]\n",
       " dtype: object)"
      ]
     },
     "execution_count": 6,
     "metadata": {},
     "output_type": "execute_result"
    }
   ],
   "source": [
    "df=pd.read_parquet('xl_wings.gzip')\n",
    "df.shape,df.dtypes"
   ]
  },
  {
   "cell_type": "code",
   "execution_count": 4,
   "metadata": {},
   "outputs": [
    {
     "data": {
      "text/html": [
       "<div>\n",
       "<style scoped>\n",
       "    .dataframe tbody tr th:only-of-type {\n",
       "        vertical-align: middle;\n",
       "    }\n",
       "\n",
       "    .dataframe tbody tr th {\n",
       "        vertical-align: top;\n",
       "    }\n",
       "\n",
       "    .dataframe thead th {\n",
       "        text-align: right;\n",
       "    }\n",
       "</style>\n",
       "<table border=\"1\" class=\"dataframe\">\n",
       "  <thead>\n",
       "    <tr style=\"text-align: right;\">\n",
       "      <th></th>\n",
       "      <th>PK</th>\n",
       "      <th>SEASON</th>\n",
       "      <th>PLAYER_ID</th>\n",
       "      <th>GAME_ID</th>\n",
       "      <th>GAME_DATE_EST_ADJ</th>\n",
       "    </tr>\n",
       "    <tr>\n",
       "      <th>index</th>\n",
       "      <th></th>\n",
       "      <th></th>\n",
       "      <th></th>\n",
       "      <th></th>\n",
       "      <th></th>\n",
       "    </tr>\n",
       "  </thead>\n",
       "  <tbody>\n",
       "    <tr>\n",
       "      <th>0</th>\n",
       "      <td>0028000001_76011</td>\n",
       "      <td>1980-1981</td>\n",
       "      <td>76011</td>\n",
       "      <td>0028000001</td>\n",
       "      <td>1980-10-10</td>\n",
       "    </tr>\n",
       "    <tr>\n",
       "      <th>1</th>\n",
       "      <td>0028000001_78095</td>\n",
       "      <td>1980-1981</td>\n",
       "      <td>78095</td>\n",
       "      <td>0028000001</td>\n",
       "      <td>1980-10-10</td>\n",
       "    </tr>\n",
       "    <tr>\n",
       "      <th>2</th>\n",
       "      <td>0028000001_77141</td>\n",
       "      <td>1980-1981</td>\n",
       "      <td>77141</td>\n",
       "      <td>0028000001</td>\n",
       "      <td>1980-10-10</td>\n",
       "    </tr>\n",
       "    <tr>\n",
       "      <th>3</th>\n",
       "      <td>0028000001_76436</td>\n",
       "      <td>1980-1981</td>\n",
       "      <td>76436</td>\n",
       "      <td>0028000001</td>\n",
       "      <td>1980-10-10</td>\n",
       "    </tr>\n",
       "    <tr>\n",
       "      <th>4</th>\n",
       "      <td>0028000001_77308</td>\n",
       "      <td>1980-1981</td>\n",
       "      <td>77308</td>\n",
       "      <td>0028000001</td>\n",
       "      <td>1980-10-10</td>\n",
       "    </tr>\n",
       "  </tbody>\n",
       "</table>\n",
       "</div>"
      ],
      "text/plain": [
       "                     PK     SEASON  PLAYER_ID     GAME_ID GAME_DATE_EST_ADJ\n",
       "index                                                                      \n",
       "0      0028000001_76011  1980-1981      76011  0028000001        1980-10-10\n",
       "1      0028000001_78095  1980-1981      78095  0028000001        1980-10-10\n",
       "2      0028000001_77141  1980-1981      77141  0028000001        1980-10-10\n",
       "3      0028000001_76436  1980-1981      76436  0028000001        1980-10-10\n",
       "4      0028000001_77308  1980-1981      77308  0028000001        1980-10-10"
      ]
     },
     "execution_count": 4,
     "metadata": {},
     "output_type": "execute_result"
    }
   ],
   "source": [
    "df.head()"
   ]
  },
  {
   "cell_type": "markdown",
   "metadata": {},
   "source": [
    "## Final setup\n",
    "Before we perform the calculation we need to make sure the DataFrame is sorted in the right order.\n",
    "\n",
    "1. Season.\n",
    "2. Player.\n",
    "3. Game Date.\n",
    "4. Game ID. _Again take note of this field._"
   ]
  },
  {
   "cell_type": "code",
   "execution_count": 19,
   "metadata": {},
   "outputs": [],
   "source": [
    "df.sort_values(by=['SEASON', 'PLAYER_ID','GAME_DATE_EST_ADJ','GAME_ID'],inplace=True)\n",
    "df.reset_index(inplace=True)"
   ]
  },
  {
   "cell_type": "markdown",
   "metadata": {},
   "source": [
    "### Days rest calculation*\n",
    "  - Days rest is a category. The categories are based on the splits used by the NBA. Here is an example, https://stats.nba.com/player/1629029/traditional/ (go to 'Splits').\n",
    "  - Itertuples returns a tuple containing the row elements. The logic is as follows:\n",
    "    1. If we are on the first row then just take store the row values (no comparison required), which is the first Else statement.\n",
    "    2. Calculate the number of days played if the season and player for the current row are the same as for the last row and store in a dictionary.\n",
    "       - If there are more than 6 days rest categorize as 6+ (as per the NBA methodology).\n",
    "       - Otherwise tag as is.\n",
    "    3. Convert the results into a Dataframe and merge back into the original df.\n",
    "  \n",
    " *Note this taken from a larger script that will go up later."
   ]
  },
  {
   "cell_type": "code",
   "execution_count": 20,
   "metadata": {},
   "outputs": [],
   "source": [
    "#Rowise comparson\n",
    "day_diff=None\n",
    "day_dict={}\n",
    "\n",
    "for row in df.itertuples():\n",
    "    if row[0] != 0: \n",
    "        if row[3] ==last[3] and row[4] ==last[4]:\n",
    "            day_diff=(row[6] - last[6]).days\n",
    "            if day_diff >= 6:\n",
    "                day_dict[row[2]] = str(min(day_diff,6)) + '+ Day(s) Rest'\n",
    "            else:\n",
    "                day_dict[row[2]] = str(day_diff) +' Day(s) Rest'\n",
    "            day_diff=None\n",
    "        else:\n",
    "            day_dict[row[2]]='6+ Day(s) Rest'\n",
    "        last=row\n",
    "    else: #first row of the table just store the last value\n",
    "        day_dict[row[2]]='6+ Day(s) Rest'\n",
    "        last=row\n",
    "\n",
    "\n"
   ]
  },
  {
   "cell_type": "markdown",
   "metadata": {},
   "source": [
    "## Results\n",
    "For each player-game pair we have a dictionary that categorizes how many day(s) rest there was between games.\n",
    "\n",
    "Before xlwings, I could only think of three ways to check if this dictionary had the correct values, all of which were tedious:\n",
    "1. Print the dictionary to the console. _Not feasible with so many key/value pairs._ I'll leave showing 100k rows to your imagination and skip this step.\n",
    "2. Use the Python logger to create a logfile of the dictionary (or a large subset). Then I could see if there were any odd values.\n",
    "3. Eyeball the dataframe itself. _Not ideal with so many rows._\n",
    "4. Export to file, open in Excel and go back-and-forth. _Still tedious._ I'm not going to go over this example since there are losts of good tutorials on exporting from Pandas to Excel."
   ]
  },
  {
   "cell_type": "code",
   "execution_count": 22,
   "metadata": {},
   "outputs": [
    {
     "data": {
      "text/plain": [
       "'6+ Day(s) Rest'"
      ]
     },
     "execution_count": 22,
     "metadata": {},
     "output_type": "execute_result"
    }
   ],
   "source": [
    "day_dict['0028000009_229']"
   ]
  },
  {
   "cell_type": "markdown",
   "metadata": {},
   "source": [
    "### Option 2: Logger\n",
    "This did not look ideal. I could have parsed the file and pulled out what I wanted, but this didn't work. On to the next step.\n",
    "\n",
    "![Console Log](https://i.imgur.com/7IyOyKi.png)"
   ]
  },
  {
   "cell_type": "code",
   "execution_count": 24,
   "metadata": {},
   "outputs": [],
   "source": [
    "logging.debug(f'{day_dict}')\n",
    "logging.shutdown()"
   ]
  },
  {
   "cell_type": "markdown",
   "metadata": {},
   "source": [
    "### Option 3: Dataframe\n",
    "I'm comfortable with SQL so my preferred approach was to create a temporary Dataframe and join using the 'PK' field.\n",
    "1. Create the temporary Dataframe.\n",
    "2. Merge on the 'PK' field. Since I know the lists should be the same I could do an inner join, however, to be safe I prefer doing a left join to prevent messing with the original. Then if there is an issue I can drop the merged column."
   ]
  },
  {
   "cell_type": "code",
   "execution_count": 26,
   "metadata": {},
   "outputs": [
    {
     "data": {
      "text/html": [
       "<div>\n",
       "<style scoped>\n",
       "    .dataframe tbody tr th:only-of-type {\n",
       "        vertical-align: middle;\n",
       "    }\n",
       "\n",
       "    .dataframe tbody tr th {\n",
       "        vertical-align: top;\n",
       "    }\n",
       "\n",
       "    .dataframe thead th {\n",
       "        text-align: right;\n",
       "    }\n",
       "</style>\n",
       "<table border=\"1\" class=\"dataframe\">\n",
       "  <thead>\n",
       "    <tr style=\"text-align: right;\">\n",
       "      <th></th>\n",
       "      <th>PK</th>\n",
       "      <th>REST_DAYS</th>\n",
       "    </tr>\n",
       "  </thead>\n",
       "  <tbody>\n",
       "    <tr>\n",
       "      <th>0</th>\n",
       "      <td>0028000009_229</td>\n",
       "      <td>6+ Day(s) Rest</td>\n",
       "    </tr>\n",
       "    <tr>\n",
       "      <th>1</th>\n",
       "      <td>0028000011_229</td>\n",
       "      <td>1 Day(s) Rest</td>\n",
       "    </tr>\n",
       "    <tr>\n",
       "      <th>2</th>\n",
       "      <td>0028000034_229</td>\n",
       "      <td>4 Day(s) Rest</td>\n",
       "    </tr>\n",
       "    <tr>\n",
       "      <th>3</th>\n",
       "      <td>0028000048_229</td>\n",
       "      <td>3 Day(s) Rest</td>\n",
       "    </tr>\n",
       "    <tr>\n",
       "      <th>4</th>\n",
       "      <td>0028000060_229</td>\n",
       "      <td>3 Day(s) Rest</td>\n",
       "    </tr>\n",
       "  </tbody>\n",
       "</table>\n",
       "</div>"
      ],
      "text/plain": [
       "               PK       REST_DAYS\n",
       "0  0028000009_229  6+ Day(s) Rest\n",
       "1  0028000011_229   1 Day(s) Rest\n",
       "2  0028000034_229   4 Day(s) Rest\n",
       "3  0028000048_229   3 Day(s) Rest\n",
       "4  0028000060_229   3 Day(s) Rest"
      ]
     },
     "execution_count": 26,
     "metadata": {},
     "output_type": "execute_result"
    }
   ],
   "source": [
    "r_days=list(day_dict.items())\n",
    "df_rest_calc=pd.DataFrame(r_days, columns=['PK','REST_DAYS'])\n",
    "df_rest_calc.head()"
   ]
  },
  {
   "cell_type": "code",
   "execution_count": 45,
   "metadata": {},
   "outputs": [
    {
     "data": {
      "text/html": [
       "<div>\n",
       "<style scoped>\n",
       "    .dataframe tbody tr th:only-of-type {\n",
       "        vertical-align: middle;\n",
       "    }\n",
       "\n",
       "    .dataframe tbody tr th {\n",
       "        vertical-align: top;\n",
       "    }\n",
       "\n",
       "    .dataframe thead th {\n",
       "        text-align: right;\n",
       "    }\n",
       "</style>\n",
       "<table border=\"1\" class=\"dataframe\">\n",
       "  <thead>\n",
       "    <tr style=\"text-align: right;\">\n",
       "      <th></th>\n",
       "      <th>index</th>\n",
       "      <th>PK</th>\n",
       "      <th>SEASON</th>\n",
       "      <th>PLAYER_ID</th>\n",
       "      <th>GAME_ID</th>\n",
       "      <th>GAME_DATE_EST_ADJ</th>\n",
       "      <th>REST_DAYS</th>\n",
       "    </tr>\n",
       "  </thead>\n",
       "  <tbody>\n",
       "    <tr>\n",
       "      <th>0</th>\n",
       "      <td>177</td>\n",
       "      <td>0028000009_229</td>\n",
       "      <td>1980-1981</td>\n",
       "      <td>229</td>\n",
       "      <td>0028000009</td>\n",
       "      <td>1980-10-10</td>\n",
       "      <td>6+ Day(s) Rest</td>\n",
       "    </tr>\n",
       "    <tr>\n",
       "      <th>1</th>\n",
       "      <td>209</td>\n",
       "      <td>0028000011_229</td>\n",
       "      <td>1980-1981</td>\n",
       "      <td>229</td>\n",
       "      <td>0028000011</td>\n",
       "      <td>1980-10-11</td>\n",
       "      <td>1 Day(s) Rest</td>\n",
       "    </tr>\n",
       "    <tr>\n",
       "      <th>2</th>\n",
       "      <td>682</td>\n",
       "      <td>0028000034_229</td>\n",
       "      <td>1980-1981</td>\n",
       "      <td>229</td>\n",
       "      <td>0028000034</td>\n",
       "      <td>1980-10-15</td>\n",
       "      <td>4 Day(s) Rest</td>\n",
       "    </tr>\n",
       "    <tr>\n",
       "      <th>3</th>\n",
       "      <td>957</td>\n",
       "      <td>0028000048_229</td>\n",
       "      <td>1980-1981</td>\n",
       "      <td>229</td>\n",
       "      <td>0028000048</td>\n",
       "      <td>1980-10-18</td>\n",
       "      <td>3 Day(s) Rest</td>\n",
       "    </tr>\n",
       "    <tr>\n",
       "      <th>4</th>\n",
       "      <td>1213</td>\n",
       "      <td>0028000060_229</td>\n",
       "      <td>1980-1981</td>\n",
       "      <td>229</td>\n",
       "      <td>0028000060</td>\n",
       "      <td>1980-10-21</td>\n",
       "      <td>3 Day(s) Rest</td>\n",
       "    </tr>\n",
       "  </tbody>\n",
       "</table>\n",
       "</div>"
      ],
      "text/plain": [
       "   index              PK     SEASON  PLAYER_ID     GAME_ID GAME_DATE_EST_ADJ  \\\n",
       "0    177  0028000009_229  1980-1981        229  0028000009        1980-10-10   \n",
       "1    209  0028000011_229  1980-1981        229  0028000011        1980-10-11   \n",
       "2    682  0028000034_229  1980-1981        229  0028000034        1980-10-15   \n",
       "3    957  0028000048_229  1980-1981        229  0028000048        1980-10-18   \n",
       "4   1213  0028000060_229  1980-1981        229  0028000060        1980-10-21   \n",
       "\n",
       "        REST_DAYS  \n",
       "0  6+ Day(s) Rest  \n",
       "1   1 Day(s) Rest  \n",
       "2   4 Day(s) Rest  \n",
       "3   3 Day(s) Rest  \n",
       "4   3 Day(s) Rest  "
      ]
     },
     "execution_count": 45,
     "metadata": {},
     "output_type": "execute_result"
    }
   ],
   "source": [
    "df= df.merge(df_rest_calc, left_on='PK', right_on='PK',how='left')\n",
    "df.head()"
   ]
  },
  {
   "cell_type": "markdown",
   "metadata": {},
   "source": [
    "#### Using the Dataframe\n",
    "Things look a bit easier to look at with the Dataframe, once we want to go across more than a few rows it becomes a pain (and in my original use case I had columns that went far over to the right).\n",
    "\n",
    "Now of course this is using relatively clean data (as I've fixed some of the errors). In real life things were a lot more messy:\n",
    "1. The NBA API is not documented. As a result there is a lot of guessing related to data quality. _First, I need to assume any bad data is on my end_; when something looks off I need to make sure I didn't screw up any transformations. \n",
    "2. The assumptions I'm using are just that--assumptions. Since the GAMEID consists of '002' + 'SEASON' + GAME #, I had assumed that the GAMEID could be sorted sequentially. That sounds like it makes sense..._however..._\n",
    "\n",
    "When I first looked at my rest-day categories thinks looked screwed up. Some of the intervals weren't correct--some were even negative. Since I am new to itertuples, I assume it was a coding error...\n",
    "\n",
    "Maybe an hour later, after combing through the function and testing with my own samples I couldn't find a bug. **Then I realized that the GAMEIDs are not sequential...so my logic**. This was the issue. Anyway I'll address that in the post about cleaning the NBA data itself.\n",
    "\n",
    "This made me think there has to be a better way...enter xlwings.\n",
    "\n",
    "---"
   ]
  },
  {
   "cell_type": "markdown",
   "metadata": {},
   "source": [
    "## Using XL wings\n",
    "\n",
    "1. Install the library if you haven't alredy (https://docs.xlwings.org/en/stable/installation.html).\n",
    "2. I imported it earlier but the convention they use is 'import xlwings as xw' so you use 'xw' to access xlwings.\n",
    "3. Setup an instance of Excel. \n",
    "4. Push your Dataframe to a range in Excel. _Done!._"
   ]
  },
  {
   "cell_type": "code",
   "execution_count": 33,
   "metadata": {},
   "outputs": [],
   "source": [
    "app = xw.App() #set up Excel instance"
   ]
  },
  {
   "cell_type": "code",
   "execution_count": 34,
   "metadata": {},
   "outputs": [],
   "source": [
    "xw.Range('A1').value=df.loc[:50000] #load 50,000 rows of the Dataframe to Excel"
   ]
  },
  {
   "cell_type": "markdown",
   "metadata": {},
   "source": [
    "### Excel output\n",
    "Now we have the output in Excel and use the Excel GUI to explore our data. Instead of having to export/import the files in Excel everything is there and I can dynamically alter what is pushed by simply changing my selector.\n",
    "![Excel Output](https://i.imgur.com/8bzVNSC.png)"
   ]
  },
  {
   "cell_type": "markdown",
   "metadata": {},
   "source": [
    "### Using Pandas and Excel together\n",
    "For example I can now explore/filter the data in Excel and simply iterate in Pandas.\n",
    "\n",
    "![Excel Sorting](https://i.imgur.com/jSl5xI2.png) | ![Excel Filters](https://i.imgur.com/lNT5Nke.png)"
   ]
  },
  {
   "cell_type": "code",
   "execution_count": null,
   "metadata": {},
   "outputs": [],
   "source": []
  }
 ],
 "metadata": {
  "kernelspec": {
   "display_name": "Python 3",
   "language": "python",
   "name": "python3"
  },
  "language_info": {
   "codemirror_mode": {
    "name": "ipython",
    "version": 3
   },
   "file_extension": ".py",
   "mimetype": "text/x-python",
   "name": "python",
   "nbconvert_exporter": "python",
   "pygments_lexer": "ipython3",
   "version": "3.7.4"
  }
 },
 "nbformat": 4,
 "nbformat_minor": 4
}
